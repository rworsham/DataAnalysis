{
 "cells": [
  {
   "cell_type": "code",
   "execution_count": 2,
   "id": "27b5cc6d-542a-4969-b067-38f11cf7d15b",
   "metadata": {},
   "outputs": [],
   "source": [
    "import pandas as pd"
   ]
  },
  {
   "cell_type": "code",
   "execution_count": 3,
   "id": "e02a2959-0075-41f5-a7bc-f2cd79dae9b2",
   "metadata": {},
   "outputs": [
    {
     "name": "stdout",
     "output_type": "stream",
     "text": [
      "              artist                                    song  duration_ms  \\\n",
      "0     Britney Spears                  Oops!...I Did It Again       211160   \n",
      "1          blink-182                    All The Small Things       167066   \n",
      "2         Faith Hill                                 Breathe       250546   \n",
      "3           Bon Jovi                            It's My Life       224493   \n",
      "4             *NSYNC                             Bye Bye Bye       200560   \n",
      "...              ...                                     ...          ...   \n",
      "1995  Jonas Brothers                                  Sucker       181026   \n",
      "1996    Taylor Swift                            Cruel Summer       178426   \n",
      "1997    Blanco Brown                              The Git Up       200593   \n",
      "1998       Sam Smith  Dancing With A Stranger (with Normani)       171029   \n",
      "1999     Post Malone                                 Circles       215280   \n",
      "\n",
      "      explicit  year  popularity  danceability  energy  key  loudness  mode  \\\n",
      "0        False  2000          77         0.751   0.834    1    -5.444     0   \n",
      "1        False  1999          79         0.434   0.897    0    -4.918     1   \n",
      "2        False  1999          66         0.529   0.496    7    -9.007     1   \n",
      "3        False  2000          78         0.551   0.913    0    -4.063     0   \n",
      "4        False  2000          65         0.614   0.928    8    -4.806     0   \n",
      "...        ...   ...         ...           ...     ...  ...       ...   ...   \n",
      "1995     False  2019          79         0.842   0.734    1    -5.065     0   \n",
      "1996     False  2019          78         0.552   0.702    9    -5.707     1   \n",
      "1997     False  2019          69         0.847   0.678    9    -8.635     1   \n",
      "1998     False  2019          75         0.741   0.520    8    -7.513     1   \n",
      "1999     False  2019          85         0.695   0.762    0    -3.497     1   \n",
      "\n",
      "      speechiness  acousticness  instrumentalness  liveness  valence    tempo  \\\n",
      "0          0.0437        0.3000          0.000018    0.3550    0.894   95.053   \n",
      "1          0.0488        0.0103          0.000000    0.6120    0.684  148.726   \n",
      "2          0.0290        0.1730          0.000000    0.2510    0.278  136.859   \n",
      "3          0.0466        0.0263          0.000013    0.3470    0.544  119.992   \n",
      "4          0.0516        0.0408          0.001040    0.0845    0.879  172.656   \n",
      "...           ...           ...               ...       ...      ...      ...   \n",
      "1995       0.0588        0.0427          0.000000    0.1060    0.952  137.958   \n",
      "1996       0.1570        0.1170          0.000021    0.1050    0.564  169.994   \n",
      "1997       0.1090        0.0669          0.000000    0.2740    0.811   97.984   \n",
      "1998       0.0656        0.4500          0.000002    0.2220    0.347  102.998   \n",
      "1999       0.0395        0.1920          0.002440    0.0863    0.553  120.042   \n",
      "\n",
      "                 genre  \n",
      "0                  pop  \n",
      "1            rock, pop  \n",
      "2         pop, country  \n",
      "3          rock, metal  \n",
      "4                  pop  \n",
      "...                ...  \n",
      "1995               pop  \n",
      "1996               pop  \n",
      "1997  hip hop, country  \n",
      "1998               pop  \n",
      "1999           hip hop  \n",
      "\n",
      "[2000 rows x 18 columns]\n"
     ]
    }
   ],
   "source": [
    "df = pd.read_csv(\"Data/songs.csv\")\n",
    "\n",
    "print(df)"
   ]
  }
 ],
 "metadata": {
  "kernelspec": {
   "display_name": "Python 3 (ipykernel)",
   "language": "python",
   "name": "python3"
  },
  "language_info": {
   "codemirror_mode": {
    "name": "ipython",
    "version": 3
   },
   "file_extension": ".py",
   "mimetype": "text/x-python",
   "name": "python",
   "nbconvert_exporter": "python",
   "pygments_lexer": "ipython3",
   "version": "3.12.3"
  }
 },
 "nbformat": 4,
 "nbformat_minor": 5
}
